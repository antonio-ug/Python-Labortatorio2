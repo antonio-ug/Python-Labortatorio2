{
 "cells": [
  {
   "attachments": {},
   "cell_type": "markdown",
   "id": "ad300428",
   "metadata": {},
   "source": [
    "### 1. Conversión de segundos a horas\n",
    "\n",
    "Programa en Python que recibe de parámetro un número de segundos y despliega en pantalla, las horas, minutos y segundos que representan."
   ]
  },
  {
   "cell_type": "code",
   "execution_count": 133,
   "id": "9831c828",
   "metadata": {},
   "outputs": [
    {
     "name": "stdout",
     "output_type": "stream",
     "text": [
      "3600 Segundos equivalen a: Horas: 1, Minutos: 0, Segundos: 0\n",
      "2743 Segundos equivalen a: Horas: 0, Minutos: 45, Segundos: 43\n",
      "5871 Segundos equivalen a: Horas: 1, Minutos: 37, Segundos: 51\n",
      "Error: El argumento debe ser un número entero.\n"
     ]
    }
   ],
   "source": [
    "def segundos_a_horas(valor):\n",
    "    try:\n",
    "        valor = valor\n",
    "        horas = valor // 3600\n",
    "        minutos = (valor % 3600) // 60\n",
    "        segundos = (valor % 3600) % 60\n",
    "        print(\"{} Segundos equivalen a: Horas: {}, Minutos: {}, Segundos: {}\".format(valor, horas, minutos, segundos))\n",
    "    except TypeError:\n",
    "        print(\"Error: El argumento debe ser un número entero.\")\n",
    "    except:\n",
    "        print(\"Ha ocurrido un error inesperado.\")\n",
    "\n",
    "segundos_a_horas(3600)\n",
    "segundos_a_horas(2743)\n",
    "segundos_a_horas(5871)\n",
    "segundos_a_horas(\"abc\")\n"
   ]
  },
  {
   "attachments": {},
   "cell_type": "markdown",
   "id": "0a27cb9d",
   "metadata": {},
   "source": [
    "### 2. Patrones triangulares\n",
    "\n",
    "Función en Python que dado un número entre 1 y 20. Y un carácter cualquiera despliega cuatro patrones triangulares."
   ]
  },
  {
   "cell_type": "code",
   "execution_count": 137,
   "id": "054e24d7",
   "metadata": {},
   "outputs": [
    {
     "name": "stdout",
     "output_type": "stream",
     "text": [
      "*          **********   **********          * \n",
      "**          *********   *********          ** \n",
      "***          ********   ********          *** \n",
      "****          *******   *******          **** \n",
      "*****          ******   ******          ***** \n",
      "******          *****   *****          ****** \n",
      "*******          ****   ****          ******* \n",
      "********          ***   ***          ******** \n",
      "*********          **   **          ********* \n",
      "**********          *   *          ********** \n"
     ]
    }
   ],
   "source": [
    "def patrones_triangulares(num, caracter):\n",
    "    for i in range(1, num + 1):\n",
    "        print(((caracter * i) + (' ' * (num - i) + ' ')) + (' ' * (i - 1) + caracter * (num - i + 1) + '   ') + ((caracter * (num - i + 1)) + (' ' * (i - 1)) + ' ') + ((' ' * (num - i) + (caracter * i) + ' ')))\n",
    "patrones_triangulares(10,'*')"
   ]
  },
  {
   "attachments": {},
   "cell_type": "markdown",
   "id": "2bd98602",
   "metadata": {},
   "source": [
    "## 3. Edad a partir de fecha de nacimiento\n",
    "\n",
    "Programa en Python que despliega la edad de una persona a partir de su fecha de nacimiento, solicitando día, mes y año de nacimiento y desplegando la edad de la persona en años, meses y días."
   ]
  },
  {
   "cell_type": "code",
   "execution_count": 149,
   "id": "eb84ca28",
   "metadata": {},
   "outputs": [
    {
     "name": "stdout",
     "output_type": "stream",
     "text": [
      "Tienes 34 años, 2 meses y 23 días de edad.\n"
     ]
    }
   ],
   "source": [
    "def calcular_edad():\n",
    "    import datetime\n",
    "\n",
    "    # Pedir la fecha de nacimiento al usuario\n",
    "    year = int(input(\"Ingresa tu año de nacimiento (AAAA): \"))\n",
    "    month = int(input(\"Ingresa tu mes de nacimiento (MM): \"))\n",
    "    day = int(input(\"Ingresa tu día de nacimiento (DD): \"))\n",
    "\n",
    "    # Obtener la fecha actual\n",
    "    now = datetime.datetime.now()\n",
    "\n",
    "    # Calcular la edad en años, meses y días\n",
    "    age_years = now.year - year\n",
    "    age_months = now.month - month\n",
    "    age_days = now.day - day\n",
    "\n",
    "    # Corregir el valor de age_months si es negativo\n",
    "    if age_months < 0:\n",
    "        age_years -= 1\n",
    "        age_months += 12\n",
    "\n",
    "    # Corregir el valor de age_days si es negativo\n",
    "    if age_days < 0:\n",
    "        last_month = now.replace(month=now.month-1)\n",
    "        last_month_days = (now - last_month).days\n",
    "        age_months -= 1\n",
    "        age_days += last_month_days\n",
    "\n",
    "    # Mostrar la edad al usuario\n",
    "    print(\"Tienes {} años, {} meses y {} días de edad.\".format(age_years, age_months, age_days))\n",
    "\n",
    "# Inicia programa\n",
    "calcular_edad()"
   ]
  },
  {
   "attachments": {},
   "cell_type": "markdown",
   "id": "726b00e1",
   "metadata": {},
   "source": [
    "## 4. Conversión de tuplas a string\n",
    "\n",
    "Función en Python que convierte una tupla de elementos (números o letras) datos, a un string. \n",
    "\n",
    "Tomar nota del siguiente ejemplo:\n",
    "Si la entrada fuera: (10, 20, 40, 5, 70) La salida deber ́ıa ser: 102040570"
   ]
  },
  {
   "cell_type": "code",
   "execution_count": 156,
   "id": "c58d63e8",
   "metadata": {},
   "outputs": [
    {
     "name": "stdout",
     "output_type": "stream",
     "text": [
      "102040570\n",
      "8090102030\n"
     ]
    }
   ],
   "source": [
    "def tuple_to_string(tup):\n",
    "    string = ''\n",
    "    for elem in tup:\n",
    "        string += str(elem)\n",
    "    return string\n",
    "    \n",
    "# Ingreso de tupla y convertsión a string\n",
    "tup = (10, 20, 40, 5, 70)\n",
    "string = tuple_to_string(tup)\n",
    "print(string)\n",
    "\n",
    "\n",
    "# Ingreso de tupla y convertsión a string\n",
    "tup = (80, 90, 10, 20, 30)\n",
    "string = tuple_to_string(tup)\n",
    "print(string)"
   ]
  },
  {
   "attachments": {},
   "cell_type": "markdown",
   "id": "a8f15bc8",
   "metadata": {},
   "source": [
    "## 5. Eliminación de tuplas vacías a partir de lista de tuplas\n",
    "\n",
    "Programa en Python que elimina las tuplas que están vacías a partir de una lista de tuplas. \n",
    "\n",
    "Tomar nota del siguiente ejemplo:\n",
    "Si la lista fuera: [(), (), (’X’,), (’a’, ’b’), (’a’, ’b’, ’c’), (’d’)] El resultado deber ́ıa ser: [(’X’), (’a’, ’b’), (’a’, ’b’, ’c’), ’d’]"
   ]
  },
  {
   "cell_type": "code",
   "execution_count": 158,
   "id": "61058b82",
   "metadata": {},
   "outputs": [
    {
     "name": "stdout",
     "output_type": "stream",
     "text": [
      "[('X',), ('a', 'b'), ('a', 'b', 'c'), 'd']\n"
     ]
    }
   ],
   "source": [
    "def elimina_tuplas_vacias(lista_tuplas):\n",
    "    lista_sin_vacias = [tupla for tupla in lista_tuplas if tupla]\n",
    "    return lista_sin_vacias\n",
    "\n",
    "\n",
    "# Eliminación de tuplas vacías a partir de lista de tuplas\n",
    "lista_tuplas = [(), (), ('X',), ('a', 'b'), ('a', 'b', 'c'), ('d')]\n",
    "lista_sin_vacias = elimina_tuplas_vacias(lista_tuplas)\n",
    "print(lista_sin_vacias)\n"
   ]
  },
  {
   "attachments": {},
   "cell_type": "markdown",
   "id": "5199550c",
   "metadata": {},
   "source": [
    "## 6. Promedio de valores de tuplas a partir de promedios individuales de las tuplas\n",
    "\n",
    "Función en Python que dada una tupla de tuplas con números, produzca una tupla con el promedio de cada tupla individual. \n",
    "\n",
    "Tomar nota del siguiente ejemplo:\n",
    "Si la tupla de entrada fuera: ((10, 10, 10, 12), (30, 45, 56, 45), (81, 80, 39, 32)) El resultado debería ser: (10.5, 44, 58)"
   ]
  },
  {
   "cell_type": "code",
   "execution_count": 159,
   "id": "d279f7c4",
   "metadata": {},
   "outputs": [
    {
     "name": "stdout",
     "output_type": "stream",
     "text": [
      "(10.5, 44.0, 58.0)\n"
     ]
    }
   ],
   "source": [
    "def promedio_tuplas(tupla_tuplas):\n",
    "    tupla_promedios = tuple(sum(tupla) / len(tupla) for tupla in tupla_tuplas)\n",
    "    return tupla_promedios\n",
    "\n",
    "# Tupla de promedios a partir de promedio de cada tupla individual\n",
    "tupla_tuplas = ((10, 10, 10, 12), (30, 45, 56, 45), (81, 80, 39, 32))\n",
    "tupla_promedios = promedio_tuplas(tupla_tuplas)\n",
    "print(tupla_promedios)\n",
    "\n"
   ]
  },
  {
   "attachments": {},
   "cell_type": "markdown",
   "id": "cff6d035",
   "metadata": {},
   "source": [
    "## 7. Programa de gestión de facturas pendientes de cobro de una empresa\n",
    "\n",
    "Escribir un programa que gestione las facturas pendientes de cobro de una empresa. Las facturas se almacenarán en un diccionario donde la llave de cada factura será el número de factura (debe utilizar un numero de 4 dígitos) y el valor el coste de la factura. El programa debe preguntar al usuario si quiere añadir una nueva factura, pagar una existente o terminar. Si desea añadir una nueva factura se preguntará por el número de factura y su coste y se añadirá al diccionario, para confirmar que la factura se ingreso correctamente el programa debe desplegar el diccionario completo. Si se desea pagar una factura se preguntará por el número de factura y se eliminará del diccionario. Después de cada operación el programa debe mostrar en pantalla la cantidad cobrada hasta el momento y la cantidad pendiente de cobro. Puede utilizar otras estructuras de datos como apoyo si lo considera necesario."
   ]
  },
  {
   "cell_type": "code",
   "execution_count": 170,
   "id": "1a748ca7",
   "metadata": {},
   "outputs": [
    {
     "name": "stdout",
     "output_type": "stream",
     "text": [
      "Factura añadida correctamente.\n",
      "Estado de cuenta:\n",
      "{'1234': 10.0}\n",
      " \n",
      "Cantidad facturada hasta el momento: 10.0\n",
      "Cantidad pendiente de cobro: 10.0\n",
      "Factura añadida correctamente.\n",
      "Estado de cuenta:\n",
      "{'1234': 10.0, '2345': 10.0}\n",
      " \n",
      "Cantidad facturada hasta el momento: 20.0\n",
      "Cantidad pendiente de cobro: 20.0\n",
      "Factura añadida correctamente.\n",
      "Estado de cuenta:\n",
      "{'1234': 10.0, '2345': 10.0, '3456': 10.0}\n",
      " \n",
      "Cantidad facturada hasta el momento: 30.0\n",
      "Cantidad pendiente de cobro: 30.0\n",
      "Factura pagada correctamente.\n",
      "Estado de cuenta:\n",
      "{'2345': 10.0, '3456': 10.0}\n",
      " \n",
      "Cantidad facturada hasta el momento: 30.0\n",
      "Cantidad pendiente de cobro: 20.0\n",
      "Factura pagada correctamente.\n",
      "Estado de cuenta:\n",
      "{'3456': 10.0}\n",
      " \n",
      "Cantidad facturada hasta el momento: 30.0\n",
      "Cantidad pendiente de cobro: 10.0\n",
      "Factura pagada correctamente.\n",
      "Estado de cuenta:\n",
      "{}\n",
      " \n",
      "Cantidad facturada hasta el momento: 30.0\n",
      "Cantidad pendiente de cobro: 0\n"
     ]
    }
   ],
   "source": [
    "facturas = {}\n",
    "total_facturado = 0\n",
    "\n",
    "def mostrar_estado_cuenta():\n",
    "    total_pendiente = 0\n",
    "    for factura, costo in facturas.items():\n",
    "        total_pendiente += costo\n",
    "    print(' ')\n",
    "    print(\"Cantidad facturada hasta el momento:\", total_facturado)\n",
    "    print(\"Cantidad pendiente de cobro:\", total_pendiente)\n",
    "\n",
    "while True:\n",
    "    accion = input(\"¿Qué desea hacer? (añadir, pagar, terminar): \")\n",
    "    if accion == \"añadir\":\n",
    "        num_factura = input(\"Ingrese el número de factura (4 dígitos): \")\n",
    "        costo = float(input(\"Ingrese el costo de la factura: \"))\n",
    "        total_facturado += costo\n",
    "        facturas[num_factura] = costo\n",
    "        print(\"Factura añadida correctamente.\")\n",
    "        print(\"Estado de cuenta:\")\n",
    "        print(facturas)\n",
    "        mostrar_estado_cuenta()\n",
    "    elif accion == \"pagar\":\n",
    "        num_factura = input(\"Ingrese el número de factura a pagar: \")\n",
    "        if num_factura in facturas:\n",
    "            del facturas[num_factura]\n",
    "            print(\"Factura pagada correctamente.\")\n",
    "            print(\"Estado de cuenta:\")\n",
    "            print(facturas)\n",
    "            mostrar_estado_cuenta()\n",
    "        else:\n",
    "            print(\"La factura ingresada no existe.\")\n",
    "    elif accion == \"terminar\":\n",
    "        break\n",
    "    else:\n",
    "        print(\"Opción inválida. Por favor, ingrese 'añadir', 'pagar' o 'terminar'.\")"
   ]
  },
  {
   "attachments": {},
   "cell_type": "markdown",
   "id": "77399a56",
   "metadata": {},
   "source": [
    "## 8. Baraja, probabilidades, eventos independientes y probabildiad de la unión\n",
    "\n",
    "Haga una función en Python, que cree un set con todas las cartas de una baraja de Pocker utilizando el siguiente formato: Tipo-Numero. Utilice las letras T para tréboles, C para corazones, P para picas y E para espadas. Para los números utilice la numeración del 1 al 13. Por ejemplo E13 - sería Rey de Espadas, P01 sería As de Picas, T05 sería cinco de Tréboles.\n",
    "\n",
    "Posteriormente cree una función que dado el conjunto anterior cree dos sets nuevos de cartas, cada conjunto debe tener una cantidad variable de elementos, puede utilizar números aleatorios enteros para definir la longitud de los conjuntos.\n",
    "\n",
    "Adicionalmente, deberá calcular la probabilidad de la intersección de ambos conjuntos y demuestre si son eventos independientes con la regla del producto.\n",
    "\n",
    "Para concluir, calcule probabilidad de la unión de ambos conjuntos y demuestre que se cumple la regla de la adición."
   ]
  },
  {
   "cell_type": "code",
   "execution_count": 179,
   "id": "e6662efb",
   "metadata": {},
   "outputs": [
    {
     "name": "stdout",
     "output_type": "stream",
     "text": [
      "Conjunto 1: {'E03', 'E01', 'C08', 'P11', 'C04', 'C09', 'C11', 'T02', 'T12', 'T08', 'P06', 'E04', 'E11', 'T10', 'C01', 'T13', 'C02', 'E05', 'T01', 'T04', 'P02', 'E06', 'E09', 'T11', 'E10', 'P01', 'C05', 'T05', 'P03', 'C03', 'C07', 'C13', 'T07', 'E13', 'P08', 'T06', 'E08', 'T03', 'P05', 'E02', 'T09', 'P10', 'C12', 'E07', 'P09'}\n",
      "Conjunto 2: {'E03', 'C10', 'E01', 'P11', 'C08', 'C04', 'C09', 'C11', 'T12', 'T08', 'P06', 'E04', 'E11', 'T10', 'C01', 'T13', 'C02', 'E05', 'P12', 'T04', 'P02', 'E06', 'E09', 'E10', 'P01', 'P07', 'C06', 'P04', 'C05', 'P03', 'T05', 'C03', 'C13', 'T07', 'P08', 'E13', 'T06', 'E08', 'C12', 'P05', 'E02', 'T09', 'P10', 'T03', 'P09'}\n",
      "Intersección: {'E03', 'E01', 'P11', 'C08', 'C04', 'C09', 'C11', 'T12', 'T08', 'P06', 'E04', 'E11', 'T10', 'C01', 'T13', 'C02', 'E05', 'T04', 'P02', 'E06', 'E09', 'E10', 'P01', 'C05', 'P03', 'T05', 'C03', 'C13', 'T07', 'P08', 'E13', 'T06', 'E08', 'T03', 'P05', 'E02', 'T09', 'P10', 'C12', 'P09'}\n",
      "Probabilidad intersección: 0.7692307692307693\n",
      "Probabilidad conjunto 1: 0.8653846153846154\n",
      "Probabilidad conjunto 2: 0.8653846153846154\n",
      "Probabilidad unión: 0.9615384615384616\n",
      "Los eventos no son independientes (no cumplen regla del producto)\n",
      "La regla de la adición se cumple\n"
     ]
    },
    {
     "name": "stderr",
     "output_type": "stream",
     "text": [
      "/var/folders/pf/58q63jnn4mj6mxttdl9cm5c80000gn/T/ipykernel_6433/4187575997.py:14: DeprecationWarning: Sampling from a set deprecated\n",
      "since Python 3.9 and will be removed in a subsequent version.\n",
      "  conjunto1 = set(random.sample(baraja, n))\n",
      "/var/folders/pf/58q63jnn4mj6mxttdl9cm5c80000gn/T/ipykernel_6433/4187575997.py:15: DeprecationWarning: Sampling from a set deprecated\n",
      "since Python 3.9 and will be removed in a subsequent version.\n",
      "  conjunto2 = set(random.sample(baraja, n))\n"
     ]
    }
   ],
   "source": [
    "import random\n",
    "\n",
    "def crear_baraja():\n",
    "    baraja = set()\n",
    "    palos = [\"T\", \"C\", \"P\", \"E\"]\n",
    "    for palo in palos:\n",
    "        for numero in range(1, 14):\n",
    "            carta = palo + str(numero).zfill(2)\n",
    "            baraja.add(carta)\n",
    "    return baraja\n",
    "\n",
    "def crear_conjuntos(baraja):\n",
    "    n = random.randint(1, len(baraja))\n",
    "    conjunto1 = set(random.sample(baraja, n))\n",
    "    conjunto2 = set(random.sample(baraja, n))\n",
    "    interseccion = conjunto1 & conjunto2\n",
    "    prob_interseccion = len(interseccion) / len(baraja)\n",
    "    prob_conjunto1 = len(conjunto1) / len(baraja)\n",
    "    prob_conjunto2 = len(conjunto2) / len(baraja)\n",
    "    prob_union = prob_conjunto1 + prob_conjunto2 - prob_interseccion\n",
    "    print(f\"Conjunto 1: {conjunto1}\")\n",
    "    print(f\"Conjunto 2: {conjunto2}\")\n",
    "    print(f\"Intersección: {interseccion}\")\n",
    "    print(f\"Probabilidad intersección: {prob_interseccion}\")\n",
    "    print(f\"Probabilidad conjunto 1: {prob_conjunto1}\")\n",
    "    print(f\"Probabilidad conjunto 2: {prob_conjunto2}\")\n",
    "    print(f\"Probabilidad unión: {prob_union}\")\n",
    "    if prob_interseccion == prob_conjunto1 * prob_conjunto2:\n",
    "        print(\"Los eventos son independientes (cumplen regla del producto)\")\n",
    "    else:\n",
    "        print(\"Los eventos no son independientes (no cumplen regla del producto)\")\n",
    "    if prob_union == prob_conjunto1 + prob_conjunto2 - prob_interseccion:\n",
    "        print(\"La regla de la adición se cumple\")\n",
    "    else:\n",
    "        print(\"La regla de la adición no se cumple\")\n",
    "\n",
    "# Ejemplo de uso\n",
    "baraja = crear_baraja()\n",
    "crear_conjuntos(baraja)\n"
   ]
  }
 ],
 "metadata": {
  "kernelspec": {
   "display_name": "Python 3 (ipykernel)",
   "language": "python",
   "name": "python3"
  },
  "language_info": {
   "codemirror_mode": {
    "name": "ipython",
    "version": 3
   },
   "file_extension": ".py",
   "mimetype": "text/x-python",
   "name": "python",
   "nbconvert_exporter": "python",
   "pygments_lexer": "ipython3",
   "version": "3.9.13"
  }
 },
 "nbformat": 4,
 "nbformat_minor": 5
}
